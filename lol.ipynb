{
 "cells": [
  {
   "cell_type": "code",
   "execution_count": 1,
   "id": "a6857c60",
   "metadata": {},
   "outputs": [],
   "source": [
    "%load_ext autoreload\n",
    "%autoreload 2\n",
    "\n",
    "import pandas as pd\n",
    "import numpy as np\n",
    "import seaborn as sns\n",
    "\n",
    "import matplotlib.pyplot as plt"
   ]
  },
  {
   "cell_type": "code",
   "execution_count": 18,
   "id": "8c68e131",
   "metadata": {},
   "outputs": [],
   "source": [
    "filename10='Challenger_Ranked_Games_10minute.csv'\n",
    "df10=pd.read_csv(filename10)\n",
    "\n",
    "\n",
    "#df10.info(verbose=True)\n",
    "\n",
    "#Cleaning the data\n",
    "#numeric_cols=df10.select_dtypes(include=['number']).columns\n",
    "#print(numeric_cols)\n",
    "\n",
    "#nonnumeric_cols=df10.select_dtypes(exclude=['number']).columns\n",
    "#print(nonnumeric_cols)\n",
    "\n"
   ]
  },
  {
   "cell_type": "code",
   "execution_count": 17,
   "id": "1c80f035",
   "metadata": {},
   "outputs": [
    {
     "ename": "KeyError",
     "evalue": "\"['blueTotalLevel', 'redWins', 'redTotalGolds', 'blueTotalGolds', 'blueWins', 'redTotalLevel', 'blueInhibitor', 'redAssist', 'blueRiftHeralds', 'blueWardPlaced', 'redFirstInhibitor', 'blueTotalJungleMinionKills', 'blueDeath', 'redWardPlaced', 'redTotalJungleMinionKills', 'blueWardKills', 'redInhibitor', 'redRiftHeralds', 'redDeath', 'redWardKills', 'blueFirstInhibitor'] not in index\"",
     "output_type": "error",
     "traceback": [
      "\u001b[0;31m---------------------------------------------------------------------------\u001b[0m",
      "\u001b[0;31mKeyError\u001b[0m                                  Traceback (most recent call last)",
      "Input \u001b[0;32mIn [17]\u001b[0m, in \u001b[0;36m<cell line: 2>\u001b[0;34m()\u001b[0m\n\u001b[1;32m      1\u001b[0m \u001b[38;5;66;03m#Checking for any missing data\u001b[39;00m\n\u001b[0;32m----> 2\u001b[0m \u001b[43mdf10\u001b[49m\u001b[43m[\u001b[49m\u001b[43mnumeric_cols\u001b[49m\u001b[43m]\u001b[49m\u001b[38;5;241m.\u001b[39minfo()\n\u001b[1;32m      3\u001b[0m df10[nonnumeric_cols]\u001b[38;5;241m.\u001b[39minfo()\n\u001b[1;32m      5\u001b[0m \u001b[38;5;66;03m#num_missing=df10.isna().sum()\u001b[39;00m\n\u001b[1;32m      6\u001b[0m \u001b[38;5;66;03m#num_missing\u001b[39;00m\n\u001b[1;32m      7\u001b[0m \n\u001b[1;32m      8\u001b[0m \u001b[38;5;66;03m#missing_by_row=df10.isna().sum(axis='columns')\u001b[39;00m\n\u001b[1;32m      9\u001b[0m \u001b[38;5;66;03m#missing_by_row.hist(bins=50)\u001b[39;00m\n",
      "File \u001b[0;32m~/opt/anaconda3/lib/python3.9/site-packages/pandas/core/frame.py:2912\u001b[0m, in \u001b[0;36mDataFrame.__getitem__\u001b[0;34m(self, key)\u001b[0m\n\u001b[1;32m   2910\u001b[0m     \u001b[38;5;28;01mif\u001b[39;00m is_iterator(key):\n\u001b[1;32m   2911\u001b[0m         key \u001b[38;5;241m=\u001b[39m \u001b[38;5;28mlist\u001b[39m(key)\n\u001b[0;32m-> 2912\u001b[0m     indexer \u001b[38;5;241m=\u001b[39m \u001b[38;5;28;43mself\u001b[39;49m\u001b[38;5;241;43m.\u001b[39;49m\u001b[43mloc\u001b[49m\u001b[38;5;241;43m.\u001b[39;49m\u001b[43m_get_listlike_indexer\u001b[49m\u001b[43m(\u001b[49m\u001b[43mkey\u001b[49m\u001b[43m,\u001b[49m\u001b[43m \u001b[49m\u001b[43maxis\u001b[49m\u001b[38;5;241;43m=\u001b[39;49m\u001b[38;5;241;43m1\u001b[39;49m\u001b[43m,\u001b[49m\u001b[43m \u001b[49m\u001b[43mraise_missing\u001b[49m\u001b[38;5;241;43m=\u001b[39;49m\u001b[38;5;28;43;01mTrue\u001b[39;49;00m\u001b[43m)\u001b[49m[\u001b[38;5;241m1\u001b[39m]\n\u001b[1;32m   2914\u001b[0m \u001b[38;5;66;03m# take() does not accept boolean indexers\u001b[39;00m\n\u001b[1;32m   2915\u001b[0m \u001b[38;5;28;01mif\u001b[39;00m \u001b[38;5;28mgetattr\u001b[39m(indexer, \u001b[38;5;124m\"\u001b[39m\u001b[38;5;124mdtype\u001b[39m\u001b[38;5;124m\"\u001b[39m, \u001b[38;5;28;01mNone\u001b[39;00m) \u001b[38;5;241m==\u001b[39m \u001b[38;5;28mbool\u001b[39m:\n",
      "File \u001b[0;32m~/opt/anaconda3/lib/python3.9/site-packages/pandas/core/indexing.py:1254\u001b[0m, in \u001b[0;36m_LocIndexer._get_listlike_indexer\u001b[0;34m(self, key, axis, raise_missing)\u001b[0m\n\u001b[1;32m   1251\u001b[0m \u001b[38;5;28;01melse\u001b[39;00m:\n\u001b[1;32m   1252\u001b[0m     keyarr, indexer, new_indexer \u001b[38;5;241m=\u001b[39m ax\u001b[38;5;241m.\u001b[39m_reindex_non_unique(keyarr)\n\u001b[0;32m-> 1254\u001b[0m \u001b[38;5;28;43mself\u001b[39;49m\u001b[38;5;241;43m.\u001b[39;49m\u001b[43m_validate_read_indexer\u001b[49m\u001b[43m(\u001b[49m\u001b[43mkeyarr\u001b[49m\u001b[43m,\u001b[49m\u001b[43m \u001b[49m\u001b[43mindexer\u001b[49m\u001b[43m,\u001b[49m\u001b[43m \u001b[49m\u001b[43maxis\u001b[49m\u001b[43m,\u001b[49m\u001b[43m \u001b[49m\u001b[43mraise_missing\u001b[49m\u001b[38;5;241;43m=\u001b[39;49m\u001b[43mraise_missing\u001b[49m\u001b[43m)\u001b[49m\n\u001b[1;32m   1255\u001b[0m \u001b[38;5;28;01mreturn\u001b[39;00m keyarr, indexer\n",
      "File \u001b[0;32m~/opt/anaconda3/lib/python3.9/site-packages/pandas/core/indexing.py:1304\u001b[0m, in \u001b[0;36m_LocIndexer._validate_read_indexer\u001b[0;34m(self, key, indexer, axis, raise_missing)\u001b[0m\n\u001b[1;32m   1302\u001b[0m \u001b[38;5;28;01mif\u001b[39;00m raise_missing:\n\u001b[1;32m   1303\u001b[0m     not_found \u001b[38;5;241m=\u001b[39m \u001b[38;5;28mlist\u001b[39m(\u001b[38;5;28mset\u001b[39m(key) \u001b[38;5;241m-\u001b[39m \u001b[38;5;28mset\u001b[39m(ax))\n\u001b[0;32m-> 1304\u001b[0m     \u001b[38;5;28;01mraise\u001b[39;00m \u001b[38;5;167;01mKeyError\u001b[39;00m(\u001b[38;5;124mf\u001b[39m\u001b[38;5;124m\"\u001b[39m\u001b[38;5;132;01m{\u001b[39;00mnot_found\u001b[38;5;132;01m}\u001b[39;00m\u001b[38;5;124m not in index\u001b[39m\u001b[38;5;124m\"\u001b[39m)\n\u001b[1;32m   1306\u001b[0m \u001b[38;5;66;03m# we skip the warning on Categorical\u001b[39;00m\n\u001b[1;32m   1307\u001b[0m \u001b[38;5;66;03m# as this check is actually done (check for\u001b[39;00m\n\u001b[1;32m   1308\u001b[0m \u001b[38;5;66;03m# non-missing values), but a bit later in the\u001b[39;00m\n\u001b[1;32m   1309\u001b[0m \u001b[38;5;66;03m# code, so we want to avoid warning & then\u001b[39;00m\n\u001b[1;32m   1310\u001b[0m \u001b[38;5;66;03m# just raising\u001b[39;00m\n\u001b[1;32m   1311\u001b[0m \u001b[38;5;28;01mif\u001b[39;00m \u001b[38;5;129;01mnot\u001b[39;00m ax\u001b[38;5;241m.\u001b[39mis_categorical():\n",
      "\u001b[0;31mKeyError\u001b[0m: \"['blueTotalLevel', 'redWins', 'redTotalGolds', 'blueTotalGolds', 'blueWins', 'redTotalLevel', 'blueInhibitor', 'redAssist', 'blueRiftHeralds', 'blueWardPlaced', 'redFirstInhibitor', 'blueTotalJungleMinionKills', 'blueDeath', 'redWardPlaced', 'redTotalJungleMinionKills', 'blueWardKills', 'redInhibitor', 'redRiftHeralds', 'redDeath', 'redWardKills', 'blueFirstInhibitor'] not in index\""
     ]
    }
   ],
   "source": [
    "#Checking for any missing data\n",
    "df10[numeric_cols].info()\n",
    "df10[nonnumeric_cols].info()\n",
    "\n",
    "#num_missing=df10.isna().sum()\n",
    "#num_missing\n",
    "\n",
    "#missing_by_row=df10.isna().sum(axis='columns')\n",
    "#missing_by_row.hist(bins=50)\n",
    "\n",
    "to_drop10=['blueWins','blueTotalGolds','blueTotalLevel','blueTotalJungleMinionKills',\n",
    "        'blueDeath','blueWardPlaced','blueWardKills','blueFirstInhibitor','blueInhibitor',\n",
    "        'blueRiftHeralds','redWins','redTotalGolds','redTotalLevel','redTotalJungleMinionKills',\n",
    "        'redDeath','redAssist','redWardPlaced','redWardKills','redFirstInhibitor','redInhibitor','redRiftHeralds']\n",
    "df10.drop(columns=to_drop10, inplace=True)\n",
    "df10.head()"
   ]
  },
  {
   "cell_type": "code",
   "execution_count": 4,
   "id": "8c8619b9",
   "metadata": {},
   "outputs": [
    {
     "data": {
      "text/plain": [
       "<AxesSubplot:>"
      ]
     },
     "execution_count": 4,
     "metadata": {},
     "output_type": "execute_result"
    },
    {
     "data": {
      "image/png": "[encoded data removed]",
      "text/plain": [
       "<Figure size 640x480 with 1 Axes>"
      ]
     },
     "metadata": {},
     "output_type": "display_data"
    }
   ],
   "source": [
    "#Checking for any outliers\n",
    "#num_missing=df10.isna().sum()\n",
    "#num_missing\n",
    "\n",
    "#missing_by_row=df10.isna().sum(axis='columns')\n",
    "#missing_by_row.hist(bins=50)"
   ]
  },
  {
   "cell_type": "code",
   "execution_count": 5,
   "id": "5b5040f9",
   "metadata": {},
   "outputs": [
    {
     "data": {
      "text/plain": [
       "gameId                          17.333743\n",
       "blueWins                        -2.000132\n",
       "blueTotalGolds                   7.727974\n",
       "blueCurrentGolds                 3.392037\n",
       "blueTotalLevel                   6.308762\n",
       "blueAvgLevel                     6.308762\n",
       "blueTotalMinionKills             2.393801\n",
       "blueTotalJungleMinionKills       2.203714\n",
       "blueFirstBlood                   0.000000\n",
       "blueKill                         8.031420\n",
       "blueDeath                        8.604733\n",
       "blueAssist                      11.865644\n",
       "blueWardPlaced                1224.488252\n",
       "blueWardKills                   10.336125\n",
       "blueFirstTower                   9.140814\n",
       "blueFirstInhibitor             157.054576\n",
       "blueTowerKills                  51.986428\n",
       "blueMidTowerKills               51.958187\n",
       "blueTopTowerKills               52.341064\n",
       "blueBotTowerKills               89.167452\n",
       "blueInhibitor                  156.066510\n",
       "blueFirstDragon                 -1.278280\n",
       "blueDragon                      -1.045279\n",
       "blueRiftHeralds                  0.499743\n",
       "redWins                         -2.000132\n",
       "redTotalGolds                    7.991846\n",
       "redCurrentGolds                  4.792759\n",
       "redTotalLevel                    6.270075\n",
       "redAvgLevel                      6.270075\n",
       "redTotalMinionKills              2.481984\n",
       "redTotalJungleMinionKills        2.236214\n",
       "redFirstBlood                    0.000000\n",
       "redKill                          8.604733\n",
       "redDeath                         8.031420\n",
       "redAssist                       11.444316\n",
       "redWardPlaced                   78.562860\n",
       "redWardKills                     9.880254\n",
       "redFirstTower                    5.856720\n",
       "redFirstInhibitor              117.863307\n",
       "redTowerKills                   35.341442\n",
       "redMidTowerKills                40.813583\n",
       "redTopTowerKills                47.508287\n",
       "redBotTowerKills                57.721089\n",
       "redInhibitor                   117.294569\n",
       "redFirstDragon                  -1.711842\n",
       "redDragon                       -1.545137\n",
       "redRiftHeralds                   2.540377\n",
       "dtype: float64"
      ]
     },
     "execution_count": 5,
     "metadata": {},
     "output_type": "execute_result"
    }
   ],
   "source": [
    "#df10.kurt(numeric_only=True)"
   ]
  },
  {
   "cell_type": "code",
   "execution_count": null,
   "id": "c777a057",
   "metadata": {},
   "outputs": [],
   "source": [
    "#to_drop10=['redWins','redTotalGolds','redCurrentGolds','redTotalLevel','redAvgLevel',\n",
    "      #     'redTotalMinionKills','redTotalJungleMinionKills','redFirstBlood','redKill']"
   ]
  }
 ],
 "metadata": {
  "kernelspec": {
   "display_name": "Python 3 (ipykernel)",
   "language": "python",
   "name": "python3"
  },
  "language_info": {
   "codemirror_mode": {
    "name": "ipython",
    "version": 3
   },
   "file_extension": ".py",
   "mimetype": "text/x-python",
   "name": "python",
   "nbconvert_exporter": "python",
   "pygments_lexer": "ipython3",
   "version": "3.9.12"
  }
 },
 "nbformat": 4,
 "nbformat_minor": 5
}
